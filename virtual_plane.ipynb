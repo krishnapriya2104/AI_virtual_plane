{
 "cells": [
  {
   "cell_type": "code",
   "execution_count": 46,
   "id": "810853dd",
   "metadata": {},
   "outputs": [
    {
     "name": "stdout",
     "output_type": "stream",
     "text": [
      "Requirement already satisfied: mediapipe in f:\\dl_projects\\dl_final_prjct\\.venv\\lib\\site-packages (0.10.21)\n",
      "Requirement already satisfied: absl-py in f:\\dl_projects\\dl_final_prjct\\.venv\\lib\\site-packages (from mediapipe) (2.2.2)\n",
      "Requirement already satisfied: attrs>=19.1.0 in f:\\dl_projects\\dl_final_prjct\\.venv\\lib\\site-packages (from mediapipe) (25.3.0)\n",
      "Requirement already satisfied: flatbuffers>=2.0 in f:\\dl_projects\\dl_final_prjct\\.venv\\lib\\site-packages (from mediapipe) (25.2.10)\n",
      "Requirement already satisfied: jax in f:\\dl_projects\\dl_final_prjct\\.venv\\lib\\site-packages (from mediapipe) (0.6.0)\n",
      "Requirement already satisfied: jaxlib in f:\\dl_projects\\dl_final_prjct\\.venv\\lib\\site-packages (from mediapipe) (0.6.0)\n",
      "Requirement already satisfied: matplotlib in f:\\dl_projects\\dl_final_prjct\\.venv\\lib\\site-packages (from mediapipe) (3.10.1)\n",
      "Requirement already satisfied: numpy<2 in f:\\dl_projects\\dl_final_prjct\\.venv\\lib\\site-packages (from mediapipe) (1.26.4)\n",
      "Requirement already satisfied: opencv-contrib-python in f:\\dl_projects\\dl_final_prjct\\.venv\\lib\\site-packages (from mediapipe) (4.11.0.86)\n",
      "Requirement already satisfied: protobuf<5,>=4.25.3 in f:\\dl_projects\\dl_final_prjct\\.venv\\lib\\site-packages (from mediapipe) (4.25.6)\n",
      "Requirement already satisfied: sounddevice>=0.4.4 in f:\\dl_projects\\dl_final_prjct\\.venv\\lib\\site-packages (from mediapipe) (0.5.1)\n",
      "Requirement already satisfied: sentencepiece in f:\\dl_projects\\dl_final_prjct\\.venv\\lib\\site-packages (from mediapipe) (0.2.0)\n",
      "Requirement already satisfied: CFFI>=1.0 in f:\\dl_projects\\dl_final_prjct\\.venv\\lib\\site-packages (from sounddevice>=0.4.4->mediapipe) (1.17.1)\n",
      "Requirement already satisfied: ml_dtypes>=0.5.0 in f:\\dl_projects\\dl_final_prjct\\.venv\\lib\\site-packages (from jax->mediapipe) (0.5.1)\n",
      "Requirement already satisfied: opt_einsum in f:\\dl_projects\\dl_final_prjct\\.venv\\lib\\site-packages (from jax->mediapipe) (3.4.0)\n",
      "Requirement already satisfied: scipy>=1.11.1 in f:\\dl_projects\\dl_final_prjct\\.venv\\lib\\site-packages (from jax->mediapipe) (1.15.2)\n",
      "Requirement already satisfied: contourpy>=1.0.1 in f:\\dl_projects\\dl_final_prjct\\.venv\\lib\\site-packages (from matplotlib->mediapipe) (1.3.2)\n",
      "Requirement already satisfied: cycler>=0.10 in f:\\dl_projects\\dl_final_prjct\\.venv\\lib\\site-packages (from matplotlib->mediapipe) (0.12.1)\n",
      "Requirement already satisfied: fonttools>=4.22.0 in f:\\dl_projects\\dl_final_prjct\\.venv\\lib\\site-packages (from matplotlib->mediapipe) (4.57.0)\n",
      "Requirement already satisfied: kiwisolver>=1.3.1 in f:\\dl_projects\\dl_final_prjct\\.venv\\lib\\site-packages (from matplotlib->mediapipe) (1.4.8)\n",
      "Requirement already satisfied: packaging>=20.0 in f:\\dl_projects\\dl_final_prjct\\.venv\\lib\\site-packages (from matplotlib->mediapipe) (25.0)\n",
      "Requirement already satisfied: pillow>=8 in f:\\dl_projects\\dl_final_prjct\\.venv\\lib\\site-packages (from matplotlib->mediapipe) (11.2.1)\n",
      "Requirement already satisfied: pyparsing>=2.3.1 in f:\\dl_projects\\dl_final_prjct\\.venv\\lib\\site-packages (from matplotlib->mediapipe) (3.2.3)\n",
      "Requirement already satisfied: python-dateutil>=2.7 in f:\\dl_projects\\dl_final_prjct\\.venv\\lib\\site-packages (from matplotlib->mediapipe) (2.9.0.post0)\n",
      "Requirement already satisfied: pycparser in f:\\dl_projects\\dl_final_prjct\\.venv\\lib\\site-packages (from CFFI>=1.0->sounddevice>=0.4.4->mediapipe) (2.22)\n",
      "Requirement already satisfied: six>=1.5 in f:\\dl_projects\\dl_final_prjct\\.venv\\lib\\site-packages (from python-dateutil>=2.7->matplotlib->mediapipe) (1.17.0)\n"
     ]
    }
   ],
   "source": [
    "!pip install  mediapipe\n",
    "import mediapipe as mp"
   ]
  },
  {
   "cell_type": "code",
   "execution_count": 68,
   "id": "bf47365d",
   "metadata": {},
   "outputs": [],
   "source": [
    "mp_hands = mp.solutions.hands\n",
    "hands = mp_hands.Hands(max_num_hands=1)\n",
    "mp_draw = mp.solutions.drawing_utils"
   ]
  },
  {
   "cell_type": "code",
   "execution_count": 69,
   "id": "e5af2423",
   "metadata": {},
   "outputs": [],
   "source": [
    "import cv2\n",
    "import mediapipe as mp\n",
    "import numpy as np\n",
    "#pip install pygame\n",
    "import pygame\n",
    "import math"
   ]
  },
  {
   "cell_type": "code",
   "execution_count": 70,
   "id": "3f0295e2",
   "metadata": {},
   "outputs": [],
   "source": [
    "pygame.mixer.init()"
   ]
  },
  {
   "cell_type": "code",
   "execution_count": 74,
   "id": "759e9e0c",
   "metadata": {},
   "outputs": [],
   "source": [
    "circle_sound = pygame.mixer.Sound(\"circle_sound.ogg\")  # Replace with your sound file\n",
    "rectangle_sound = pygame.mixer.Sound(\"rectangle_sound.ogg\") #  # Replace with your sound file\n",
    "eraser_sound = pygame.mixer.Sound(\"eraser_sound.wav\")"
   ]
  },
  {
   "cell_type": "code",
   "execution_count": 75,
   "id": "7e8d9c46",
   "metadata": {},
   "outputs": [
    {
     "data": {
      "text/plain": [
       "True"
      ]
     },
     "execution_count": 75,
     "metadata": {},
     "output_type": "execute_result"
    }
   ],
   "source": [
    "cap = cv2.VideoCapture(0)\n",
    "w, h = 1280, 720\n",
    "cap.set(3, w)\n",
    "cap.set(4, h)"
   ]
  },
  {
   "cell_type": "code",
   "execution_count": 76,
   "id": "ab94a4d5",
   "metadata": {},
   "outputs": [],
   "source": [
    "canvas = np.zeros((h, w, 3), np.uint8)"
   ]
  },
  {
   "cell_type": "code",
   "execution_count": 77,
   "id": "29e943a0",
   "metadata": {},
   "outputs": [],
   "source": [
    "def distance(p1, p2):\n",
    "    return math.hypot(p2[0] - p1[0], p2[1] - p1[1])"
   ]
  },
  {
   "cell_type": "code",
   "execution_count": 78,
   "id": "c4226773",
   "metadata": {},
   "outputs": [],
   "source": [
    "tools = ['Circle', 'Rectangle', 'Eraser']\n",
    "selected_tool = None\n",
    "tool_colors = [(0, 255, 0), (255, 0, 0), (100, 100, 100)]\n",
    "tool_height = 100\n"
   ]
  },
  {
   "cell_type": "code",
   "execution_count": 79,
   "id": "503a4538",
   "metadata": {},
   "outputs": [],
   "source": [
    "\n",
    "while True:\n",
    "    ret, frame = cap.read()\n",
    "    frame = cv2.flip(frame, 1)\n",
    "    frame_rgb = cv2.cvtColor(frame, cv2.COLOR_BGR2RGB)\n",
    "    results = hands.process(frame_rgb)\n",
    "\n",
    "    # Draw tool selection bar\n",
    "    for i, tool in enumerate(tools):\n",
    "        x1 = i * (w // 3)\n",
    "        x2 = (i + 1) * (w // 3)\n",
    "        y1 = 0\n",
    "        y2 = tool_height\n",
    "        color = (0, 255, 255) if selected_tool == tool else tool_colors[i]\n",
    "        cv2.rectangle(frame, (x1, y1), (x2, y2), color, -1)\n",
    "        cv2.putText(frame, tool, (x1 + 40, 70), cv2.FONT_HERSHEY_SIMPLEX, 1.5, (0, 0, 0), 3)\n",
    "\n",
    "    if results.multi_hand_landmarks:\n",
    "        for handLms in results.multi_hand_landmarks:\n",
    "            lm_list = []\n",
    "            for lm in handLms.landmark:\n",
    "                cx, cy = int(lm.x * w), int(lm.y * h)\n",
    "                lm_list.append((cx, cy))\n",
    "\n",
    "            mp_draw.draw_landmarks(frame, handLms, mp_hands.HAND_CONNECTIONS)\n",
    "\n",
    "            index_tip = lm_list[8]\n",
    "            middle_tip = lm_list[12]\n",
    "            thumb_tip = lm_list[4]\n",
    "\n",
    "            # Tool selection\n",
    "            if index_tip[1] < tool_height:\n",
    "                tool_index = index_tip[0] // (w // 3)\n",
    "                if 0 <= tool_index < len(tools):\n",
    "                    selected_tool = tools[tool_index]\n",
    "\n",
    "            # Perform action based on selected tool\n",
    "            if selected_tool == 'Circle':\n",
    "                if distance(thumb_tip, index_tip) < 40:\n",
    "                    cv2.circle(canvas, index_tip, 30, (0, 255, 0), 2)\n",
    "                    circle_sound.play()\n",
    "\n",
    "            elif selected_tool == 'Rectangle':\n",
    "                if index_tip[1] < lm_list[6][1] and middle_tip[1] < lm_list[10][1]:\n",
    "                    pt1 = (index_tip[0] - 30, index_tip[1] - 30)\n",
    "                    pt2 = (middle_tip[0] + 30, middle_tip[1] + 30)\n",
    "                    cv2.rectangle(canvas, pt1, pt2, (255, 0, 0), 2)\n",
    "                    rectangle_sound.play()\n",
    "\n",
    "            elif selected_tool == 'Eraser':\n",
    "                if index_tip[1] < lm_list[6][1] and middle_tip[1] > lm_list[10][1]:\n",
    "                    cv2.circle(canvas, index_tip, 40, (0, 0, 0), -1)\n",
    "                    eraser_sound.play()\n",
    "\n",
    "    # Merge canvas and frame\n",
    "    combined = cv2.addWeighted(frame, 0.7, canvas, 0.3, 0)\n",
    "    cv2.imshow(\"AI Virtual Drawing Plane\", combined)\n",
    "    cv2.putText(frame, \"AI Virtual Drawing Board\", (w//2 - 300, tool_height + 50),\n",
    "    cv2.FONT_HERSHEY_SIMPLEX, 1.5, (255, 255, 255), 3)\n",
    "\n",
    "    key = cv2.waitKey(1)\n",
    "    if key == ord('q'):\n",
    "        break\n",
    "    elif key == ord('c'):\n",
    "        canvas = np.zeros((h, w, 3), np.uint8)\n",
    "\n",
    "cap.release()\n",
    "cv2.destroyAllWindows()"
   ]
  }
 ],
 "metadata": {
  "kernelspec": {
   "display_name": ".venv",
   "language": "python",
   "name": "python3"
  },
  "language_info": {
   "codemirror_mode": {
    "name": "ipython",
    "version": 3
   },
   "file_extension": ".py",
   "mimetype": "text/x-python",
   "name": "python",
   "nbconvert_exporter": "python",
   "pygments_lexer": "ipython3",
   "version": "3.12.8"
  }
 },
 "nbformat": 4,
 "nbformat_minor": 5
}
